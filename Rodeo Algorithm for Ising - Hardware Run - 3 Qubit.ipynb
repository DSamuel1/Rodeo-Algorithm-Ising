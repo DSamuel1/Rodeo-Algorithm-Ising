{
 "cells": [
  {
   "cell_type": "markdown",
   "id": "f5350508",
   "metadata": {},
   "source": [
    "# Rodeo Algorithm for the Ising Model\n",
    "\n",
    "This notebook will implement the [Rodeo Algorithm](https://arxiv.org/abs/2009.04092) for the [Ising model](https://en.wikipedia.org/wiki/Ising_model) and run it on hardware"
   ]
  },
  {
   "cell_type": "code",
   "execution_count": 1,
   "id": "ef82fb45",
   "metadata": {},
   "outputs": [],
   "source": [
    "from qiskit import *\n",
    "from qiskit.tools.visualization import circuit_drawer\n",
    "import matplotlib.pyplot as plt\n",
    "import numpy as np"
   ]
  },
  {
   "cell_type": "markdown",
   "id": "3407cd60",
   "metadata": {},
   "source": [
    "First, we must define a function for a single cycle of the Rodeo Algorithm. This involves implementing the time evolution of the Ising model Hamiltonian Operator.\n",
    "\n",
    "The Hamiltonian for the Ising model is $\\hat{H}=-J \\sum_{<i,j>} \\sigma_{i}^Z \\sigma_{j}^Z - \\sum_{j} h \\sigma_{j}^Z$. In this example, we will assume there is no external field, i.e., $h=0$. So, effectively, $\\hat{H}=-J \\sum_{<i,j>} \\sigma_{i}^Z \\sigma_{j}^Z$\n",
    "\n",
    "We want the hamiltonian evolution to be controlled by the ancilla qubit, so we will use controlled reversal gates as described in [this paper](https://arxiv.org/abs/2208.13557). Since our hamiltonian is made up of Pauli Z's, we will use controlled Pauli Y gates to control the time evolution.\n",
    "\n",
    "The function call below will produce a single cycle of the Rodeo Algorithm for a 3 qubit Hamiltonian with the specified parameters."
   ]
  },
  {
   "cell_type": "code",
   "execution_count": 2,
   "id": "5d2d3ac8",
   "metadata": {},
   "outputs": [
    {
     "data": {
      "image/png": "[encoded data removed]",
      "text/plain": [
       "<Figure size 869.197x264.88 with 1 Axes>"
      ]
     },
     "execution_count": 2,
     "metadata": {},
     "output_type": "execute_result"
    }
   ],
   "source": [
    "def cycle(j:\"float\", deltat:\"float\", E:\"float\", nqubits:\"int\")-> QuantumCircuit:\n",
    "    circ = QuantumCircuit(nqubits+1)\n",
    "    circ.h(nqubits)\n",
    "    # This loop implements the Ising time evolution for each pair of object qubits.\n",
    "    # It also includes CY gates controlled on the ancilla qubit to make the time evolution controlled\n",
    "    for obj_qubit in range(0, nqubits-1):\n",
    "        circ.cy(nqubits, obj_qubit)\n",
    "        circ.cx(obj_qubit,obj_qubit+1)\n",
    "        circ.rz(-1*j*deltat, obj_qubit+1)\n",
    "        circ.cx(obj_qubit,obj_qubit+1)\n",
    "        circ.cy(nqubits, obj_qubit)\n",
    "    circ.p(E*deltat, nqubits)\n",
    "    circ.h(nqubits)\n",
    "    \n",
    "    return circ\n",
    "\n",
    "circuit = cycle(j=1, deltat=1, E=1, nqubits=3)\n",
    "circuit.draw(output = 'mpl')"
   ]
  },
  {
   "cell_type": "markdown",
   "id": "bba2879c",
   "metadata": {},
   "source": [
    "Next, we must put multiple cycles of the Rodeo Algorithm together in one Rodeo Circuit. Note that we initially add Hadamard gates to all the object qubits in order to get the whole energy spectrum in our final run. We also use [mid-circuit measurements](https://quantum-computing.ibm.com/lab/docs/iql/manage/systems/midcircuit-measurement/) to measure the ancilla qubit after each cycle. We must also sample `deltat` for each cycle from a gaussian distribution of mean `t` and standard deviation `sigma`."
   ]
  },
  {
   "cell_type": "code",
   "execution_count": 3,
   "id": "b7130548",
   "metadata": {},
   "outputs": [
    {
     "data": {
      "image/png": "[encoded data removed]",
      "text/plain": [
       "<Figure size 688.597x385.28 with 1 Axes>"
      ]
     },
     "execution_count": 3,
     "metadata": {},
     "output_type": "execute_result"
    }
   ],
   "source": [
    "def rodeo_circuit(j:\"float\", t:\"float\", sigma:\"float\", E:\"float\", nqubits:\"int\", n_cycles:\"int\")-> QuantumCircuit:\n",
    "    circuit = QuantumCircuit(nqubits+1, n_cycles)\n",
    "    for obj_qubit in range(nqubits):\n",
    "        circuit.h(obj_qubit)\n",
    "    for c in range(n_cycles):\n",
    "        deltat = np.random.normal(t, sigma)\n",
    "        cycle_gate = cycle(j, deltat, E, nqubits).to_gate(label=r'Cycle')\n",
    "        circuit.append(cycle_gate, range(0,nqubits+1))\n",
    "        circuit.measure(nqubits, c)\n",
    "    return circuit\n",
    "\n",
    "circ = rodeo_circuit(j=1, t=0, sigma=2, E=2, nqubits=4, n_cycles=3)\n",
    "circ.draw(output = 'mpl')\n",
    "\n",
    "# Uncomment the line below to see the individual gates for each cycle\n",
    "# circ.decompose().draw(output = 'mpl')"
   ]
  },
  {
   "cell_type": "markdown",
   "id": "20eaad01",
   "metadata": {},
   "source": [
    "Now, we can run the create and run a series of Rodeo Circuits for a number of energies to determine the energy spectrum. We will use Qiskit Runtime to run this on an IBM Quantum Computer."
   ]
  },
  {
   "cell_type": "code",
   "execution_count": 12,
   "id": "890ecffa",
   "metadata": {
    "scrolled": true
   },
   "outputs": [],
   "source": [
    "from qiskit_ibm_runtime import QiskitRuntimeService, Options, Session, Sampler\n",
    "\n",
    "service = QiskitRuntimeService(channel = 'ibm_quantum')\n",
    "# backend = service.least_busy(simulator=False, operational=True, min_num_qubits=5)\n",
    "backend = service.get_backend('ibmq_belem')\n",
    "session = Session(service = service, backend = backend)\n",
    "options = Options()\n",
    "options.resilience_level = 1\n",
    "sampler = Sampler(session = session, options = options)\n",
    "\n",
    "\n",
    "\"\"\"Fucntion that plots the energy spectrum for the Ising Model for the given parameters using the Rodeo Algorithm\n",
    "\n",
    "Args:\n",
    "    E_min: Minimum energy value in the energy spectrum\n",
    "    E_max: Maximum enery value in the energy spectrum\n",
    "    num_samples: Number of energies in the energy spectrum\n",
    "    t: Mean of time distribution to be sampled from\n",
    "    sigma: Root-mean-square value of time distribution to be sampled from\n",
    "    num_cycles: Number of cycles for the Rodeo Algorithm\n",
    "    num_shots: Number of shots for each rodeo circuit\n",
    "    j: Pair interaction strength in Ising model\n",
    "    sampler: Qiskit sampler to be used in circuit execution\n",
    "\"\"\"\n",
    "def energy_spectrum(E_min: float, E_max: float, num_samples: int, t: float, sigma: float, num_cycles: int, num_shots: int, j: float, nqubits: int, sampler: Sampler):\n",
    "    fig = plt.figure()\n",
    "    ax = fig.add_axes([0,0,1,1])\n",
    "    # E_list is a list of the energies we will be finding the probability for\n",
    "    E_list = np.linspace(E_min, E_max, num_samples)\n",
    "    p = []\n",
    "    circuits = []\n",
    "    for E in E_list:\n",
    "        circuits.append(rodeo_circuit(j=j, t=t, sigma=sigma, E=E, nqubits=nqubits, n_cycles=num_cycles))\n",
    "        \n",
    "    job = sampler.run(circuits, shots = num_shots, dynamic = True)\n",
    "    result = job.result()\n",
    "\n",
    "    idx = 0\n",
    "    counts = result.decompose()\n",
    "    for count in counts:\n",
    "        dist = count.quasi_dists\n",
    "        if isinstance(dist[0].get(0), float):\n",
    "            prob = dist[0].get(0)\n",
    "        else:\n",
    "            prob = 0\n",
    "        print(E_list[idx],\": \",prob)\n",
    "        p.append(prob)\n",
    "        idx+=1\n",
    "        \n",
    "    ax.bar(E_list, p, width=(E_max-E_min)/num_samples, align='edge', color = 'blue', edgecolor='black', alpha=0.4)\n",
    "    plt.show()"
   ]
  },
  {
   "cell_type": "markdown",
   "id": "98a8a7eb",
   "metadata": {},
   "source": [
    "Now, we can use the above function to find the energy spectrum. As an example, we will find the desired energies of the $3$ qubit Ising Model with $j = 1$. Ideally, we should find peaks at $E = -2, 0, 2$. This is because 3 qubits means we have 2 pair interactions, and each pair will have strength $j=1$. Since the $ZZ$ hamiltonian has eigenvalues 1 and -1, this means each pair interaction will result in contribute either $1$ or $-1$ to the overall energy of the system. So, either both interactions are $1$, which results in an energy of $2$, both are opposite, resulting in an energy of $0$, or both are $-1$ resulting in an energy of $-2$.\n",
    "\n",
    "To test this, we first call the `energy_spectrum` function for $61$ samples between $-3$ and $3$. We will then \"zoom in\" and call the function for $101$ samples int the ranges $(-0.5, 0.5)$, $(-2.5, -1.5)$, and $(1.5, 2.5)$."
   ]
  },
  {
   "cell_type": "code",
   "execution_count": 13,
   "id": "fb843b15",
   "metadata": {},
   "outputs": [
    {
     "name": "stdout",
     "output_type": "stream",
     "text": [
      "-3.0 :  0.0016450433322928492\n",
      "-2.9 :  0.002778484050793886\n",
      "-2.8 :  0.0007028756326844919\n",
      "-2.7 :  0.011238449324256005\n",
      "-2.6 :  0.004100065175239343\n",
      "-2.5 :  0.006360232173328171\n",
      "-2.4 :  0.014089392415619295\n",
      "-2.3 :  0.01530880801788904\n",
      "-2.2 :  0.023424154869881347\n",
      "-2.1 :  0.03142455309917734\n",
      "-2.0 :  0.023846779131474757\n",
      "-1.9 :  0.027251876352308774\n",
      "-1.7999999999999998 :  0.025863816910045898\n",
      "-1.7 :  0.02678848289736982\n",
      "-1.5999999999999999 :  0.019726671696475028\n",
      "-1.5 :  0.003852402280219783\n",
      "-1.4 :  0\n",
      "-1.2999999999999998 :  0.0019651434922817942\n",
      "-1.2 :  0.002405206652870919\n",
      "-1.0999999999999999 :  0.005382247906863032\n",
      "-1.0 :  0.02661901228804939\n",
      "-0.8999999999999999 :  0\n",
      "-0.7999999999999998 :  0\n",
      "-0.6999999999999997 :  0.005645318381672521\n",
      "-0.5999999999999996 :  0.016296491939146122\n",
      "-0.5 :  0.0012769347774791826\n",
      "-0.3999999999999999 :  0.06598117564316028\n",
      "-0.2999999999999998 :  0.025468221126668824\n",
      "-0.19999999999999973 :  0.05455366303730951\n",
      "-0.09999999999999964 :  0.07350622896197684\n",
      "0.0 :  0.10046112921411793\n",
      "0.10000000000000009 :  0.11292908248697174\n",
      "0.20000000000000018 :  0.07307781132994208\n",
      "0.30000000000000027 :  0.05372752513587903\n",
      "0.40000000000000036 :  0.04530827192440369\n",
      "0.5 :  0.011859304380516217\n",
      "0.6000000000000001 :  0.009646444254491373\n",
      "0.7000000000000002 :  0.0025442099399595433\n",
      "0.8000000000000003 :  0.002154372026295996\n",
      "0.9000000000000004 :  0\n",
      "1.0 :  0\n",
      "1.1000000000000005 :  0.0005241100896180202\n",
      "1.2000000000000002 :  0\n",
      "1.2999999999999998 :  0.0006677305882884931\n",
      "1.4000000000000004 :  0.004157237713513463\n",
      "1.5 :  0.017100875607744394\n",
      "1.6000000000000005 :  0.008853110397451907\n",
      "1.7000000000000002 :  0.013324344419595239\n",
      "1.8000000000000007 :  0.03202794452398051\n",
      "1.9000000000000004 :  0.04076378502776055\n",
      "2.0 :  0.02140034611103296\n",
      "2.1000000000000005 :  0.032150330162444535\n",
      "2.2 :  0.020723628955610186\n",
      "2.3000000000000007 :  0.021269206600879706\n",
      "2.4000000000000004 :  0.019502485845275707\n",
      "2.5 :  0.00553612383609947\n",
      "2.6000000000000005 :  0.004919438543557881\n",
      "2.7 :  0.004696821518166946\n",
      "2.8000000000000007 :  0.00040154235941096135\n",
      "2.9000000000000004 :  0.0035195717484134276\n",
      "3.0 :  0.003709122876992655\n"
     ]
    },
    {
     "data": {
      "image/png": "[encoded data removed]",
      "text/plain": [
       "<Figure size 432x288 with 1 Axes>"
      ]
     },
     "metadata": {
      "needs_background": "light"
     },
     "output_type": "display_data"
    }
   ],
   "source": [
    "energy_spectrum(E_min = -3, E_max = 3, num_samples = 61, t = 0, sigma = 2, num_cycles = 10, num_shots = 1000, j = 1, nqubits = 3, sampler = sampler)"
   ]
  },
  {
   "cell_type": "code",
   "execution_count": 14,
   "id": "630fb957",
   "metadata": {
    "scrolled": true
   },
   "outputs": [
    {
     "name": "stdout",
     "output_type": "stream",
     "text": [
      "-0.5 :  0.0076275980610521245\n",
      "-0.49 :  0.004654828586565802\n",
      "-0.48 :  -0.00013261310580661717\n",
      "-0.47 :  0.0013878384336960554\n",
      "-0.46 :  0.0031429980736853067\n",
      "-0.45 :  0\n",
      "-0.44 :  0.012411421288143938\n",
      "-0.43 :  0.008582805835885856\n",
      "-0.42 :  0\n",
      "-0.41000000000000003 :  0\n",
      "-0.4 :  0\n",
      "-0.39 :  3.758168540784476e-05\n",
      "-0.38 :  0.02991682167060731\n",
      "-0.37 :  0.0022516273503231407\n",
      "-0.36 :  0\n",
      "-0.35 :  0.02419444487947885\n",
      "-0.33999999999999997 :  0.011319828589782028\n",
      "-0.32999999999999996 :  0.0012090403885283948\n",
      "-0.32 :  0.005335312959455178\n",
      "-0.31 :  0.0005799991696296189\n",
      "-0.3 :  -0.0008241176020302521\n",
      "-0.29000000000000004 :  0.0012662483472344803\n",
      "-0.28 :  0\n",
      "-0.27 :  0.004127846294276555\n",
      "-0.26 :  0.0028059868974659873\n",
      "-0.25 :  0.006409785827386525\n",
      "-0.24 :  0.0033020789112035414\n",
      "-0.22999999999999998 :  0.011583517730679045\n",
      "-0.21999999999999997 :  0.005046321107731511\n",
      "-0.21000000000000002 :  7.792348190254027e-05\n",
      "-0.2 :  -8.368907982745417e-05\n",
      "-0.19 :  0.0009704417585608221\n",
      "-0.18 :  0.0012063391472014386\n",
      "-0.16999999999999998 :  0.007031299942390756\n",
      "-0.15999999999999998 :  0.004195518598561702\n",
      "-0.14999999999999997 :  -7.093869411752288e-05\n",
      "-0.14 :  0.0020492312437890544\n",
      "-0.13 :  0.0006636194560232997\n",
      "-0.12 :  0\n",
      "-0.10999999999999999 :  0.0028578478029956875\n",
      "-0.09999999999999998 :  0.007354736712128623\n",
      "-0.08999999999999997 :  0.0063100294035780555\n",
      "-0.08000000000000002 :  0.008714448452610175\n",
      "-0.07 :  0.023534138845589442\n",
      "-0.06 :  0.005743669039730898\n",
      "-0.04999999999999999 :  0.021351641454304748\n",
      "-0.03999999999999998 :  0.0606799154264956\n",
      "-0.02999999999999997 :  0.17412253189147425\n",
      "-0.020000000000000018 :  0.12404310137363785\n",
      "-0.010000000000000009 :  0.11127799582428848\n",
      "0.0 :  0.15229657871180471\n",
      "0.010000000000000009 :  0.23813932002199995\n",
      "0.020000000000000018 :  0.15995815567951105\n",
      "0.030000000000000027 :  0.06763357746590226\n",
      "0.040000000000000036 :  0.11051573362785583\n",
      "0.050000000000000044 :  0.03955261217455101\n",
      "0.06000000000000005 :  0.02596819002184818\n",
      "0.07000000000000006 :  0.002519887689225421\n",
      "0.07999999999999996 :  0.0014703730633890827\n",
      "0.08999999999999997 :  0.0009544418253028531\n",
      "0.09999999999999998 :  -0.0004124656713613091\n",
      "0.10999999999999999 :  0.0045354698932624764\n",
      "0.12 :  0.011826826326656416\n",
      "0.13 :  0\n",
      "0.14 :  0.000800289176902977\n",
      "0.15000000000000002 :  0\n",
      "0.16000000000000003 :  0\n",
      "0.17000000000000004 :  0\n",
      "0.18000000000000005 :  0.004493284408063135\n",
      "0.19000000000000006 :  5.4325745905415795e-05\n",
      "0.20000000000000007 :  0.00047388019114679233\n",
      "0.20999999999999996 :  0.00048428919528995966\n",
      "0.21999999999999997 :  0.004289502561369184\n",
      "0.22999999999999998 :  0.0011839122305965523\n",
      "0.24 :  0.018062118373276828\n",
      "0.25 :  0\n",
      "0.26 :  0.0035050363683972333\n",
      "0.27 :  0.01650134217779771\n",
      "0.28 :  0.0034754580466128033\n",
      "0.29000000000000004 :  0.0054083984320416265\n",
      "0.30000000000000004 :  0.0045617831581592555\n",
      "0.31000000000000005 :  -0.0005478879665367912\n",
      "0.32000000000000006 :  0.01881713091336053\n",
      "0.33000000000000007 :  0.023898164116885442\n",
      "0.33999999999999997 :  0.0006027372753663425\n",
      "0.35 :  0.005483252997645049\n",
      "0.36 :  0.0011169276961858518\n",
      "0.37 :  0.0027785519818168433\n",
      "0.38 :  0.0013981346068440116\n",
      "0.39 :  0.0026965119947435176\n",
      "0.4 :  0.00044161497588165614\n",
      "0.41000000000000003 :  0.0014694456226214587\n",
      "0.42000000000000004 :  0.004636949663050813\n",
      "0.43000000000000005 :  0.0013350367907520358\n",
      "0.44000000000000006 :  -0.0003054317239186663\n",
      "0.45000000000000007 :  0.0022835362641248544\n",
      "0.45999999999999996 :  0.018023478195581547\n",
      "0.47 :  -0.0007550110536235929\n",
      "0.48 :  0.0007689901235218798\n",
      "0.49 :  0.0028492768908281196\n",
      "0.5 :  0\n"
     ]
    },
    {
     "data": {
      "image/png": "[encoded data removed]",
      "text/plain": [
       "<Figure size 432x288 with 1 Axes>"
      ]
     },
     "metadata": {
      "needs_background": "light"
     },
     "output_type": "display_data"
    }
   ],
   "source": [
    "energy_spectrum(E_min = -0.5, E_max = 0.5, num_samples = 101, t = 0, sigma = 20, num_cycles = 8, num_shots = 1000, j = 1, nqubits = 3, sampler = sampler)"
   ]
  },
  {
   "cell_type": "code",
   "execution_count": 15,
   "id": "0938c538",
   "metadata": {},
   "outputs": [
    {
     "name": "stdout",
     "output_type": "stream",
     "text": [
      "-2.5 :  0\n",
      "-2.49 :  0.013433577034650115\n",
      "-2.48 :  -2.515044451095252e-06\n",
      "-2.47 :  0.006094552087277871\n",
      "-2.46 :  0.0034721890089807333\n",
      "-2.45 :  0.043741465051147954\n",
      "-2.44 :  0\n",
      "-2.43 :  -0.0031313757931082735\n",
      "-2.42 :  0.0014830997350754002\n",
      "-2.41 :  0\n",
      "-2.4 :  0\n",
      "-2.39 :  0.0026060081501854083\n",
      "-2.38 :  0\n",
      "-2.37 :  4.8728621130652356e-05\n",
      "-2.36 :  0\n",
      "-2.35 :  0.0011651684625805137\n",
      "-2.34 :  0.003283524165743548\n",
      "-2.33 :  0\n",
      "-2.32 :  0.0014629460878773073\n",
      "-2.31 :  0.013174409254021755\n",
      "-2.3 :  0.0035747973032370563\n",
      "-2.29 :  0.0026451443278358816\n",
      "-2.28 :  0.003678355430067374\n",
      "-2.27 :  1.1394780493406404e-05\n",
      "-2.26 :  0.007003438191281515\n",
      "-2.25 :  0.0007329911366933965\n",
      "-2.24 :  0.01144672683197671\n",
      "-2.23 :  0.003889351411252537\n",
      "-2.2199999999999998 :  0.0029367449258288565\n",
      "-2.21 :  0\n",
      "-2.2 :  0.028052917943323884\n",
      "-2.19 :  0\n",
      "-2.18 :  0.012075658841654197\n",
      "-2.17 :  0.0046034491273677725\n",
      "-2.16 :  -0.00010389956476323477\n",
      "-2.15 :  0\n",
      "-2.14 :  0.0072001484286313144\n",
      "-2.13 :  0.0026042786367875288\n",
      "-2.12 :  0.003744775033114592\n",
      "-2.11 :  0.006017673435645803\n",
      "-2.1 :  0.003213793114337337\n",
      "-2.09 :  0.00010887784036198286\n",
      "-2.08 :  0.001348228074267305\n",
      "-2.07 :  0.004930145673800552\n",
      "-2.06 :  0.0022020305957471333\n",
      "-2.05 :  0.0016393264412785259\n",
      "-2.04 :  0.013106661218503396\n",
      "-2.03 :  0.030231813521845164\n",
      "-2.02 :  0.07268936148149922\n",
      "-2.01 :  0.028355202748799494\n",
      "-2.0 :  0.059784884720712854\n",
      "-1.99 :  0.10899295589052813\n",
      "-1.98 :  0.04138147915192836\n",
      "-1.97 :  0.016856668617311665\n",
      "-1.96 :  0.015142325737791904\n",
      "-1.95 :  0.02675389347064081\n",
      "-1.94 :  0.010294894485700255\n",
      "-1.93 :  0.023262081372126705\n",
      "-1.92 :  0.0031509891686207383\n",
      "-1.9100000000000001 :  9.251380315410003e-05\n",
      "-1.9 :  0.004355416228216858\n",
      "-1.8900000000000001 :  0.0033016668936548654\n",
      "-1.88 :  0.004560739869675956\n",
      "-1.87 :  0.001403828880273658\n",
      "-1.8599999999999999 :  0.0013808023040247897\n",
      "-1.85 :  0.0006914989340690061\n",
      "-1.8399999999999999 :  0.009067707013199732\n",
      "-1.83 :  0\n",
      "-1.8199999999999998 :  0.009072288408177663\n",
      "-1.81 :  0\n",
      "-1.7999999999999998 :  0.0012288112425698472\n",
      "-1.79 :  0.005495546781342052\n",
      "-1.78 :  0\n",
      "-1.77 :  0.0004164231166437191\n",
      "-1.76 :  0\n",
      "-1.75 :  0.003189463638268812\n",
      "-1.74 :  0.007146114471312544\n",
      "-1.73 :  0\n",
      "-1.72 :  0.006078435554091148\n",
      "-1.71 :  0.0040643371372769445\n",
      "-1.7 :  0.00131480665173442\n",
      "-1.69 :  0.0006389575292324298\n",
      "-1.68 :  0.005152937725510473\n",
      "-1.67 :  0.0005407164873932564\n",
      "-1.6600000000000001 :  0.013614917868012347\n",
      "-1.65 :  0\n",
      "-1.6400000000000001 :  0.0006147994947108137\n",
      "-1.63 :  0\n",
      "-1.62 :  0.0009687619497898992\n",
      "-1.6099999999999999 :  0.00016170442235108863\n",
      "-1.6 :  0.0013889764713717401\n",
      "-1.5899999999999999 :  0.0012147518269397643\n",
      "-1.58 :  0\n",
      "-1.5699999999999998 :  0\n",
      "-1.56 :  0.0014931924771524486\n",
      "-1.5499999999999998 :  0\n",
      "-1.54 :  0\n",
      "-1.53 :  0.00846884205649235\n",
      "-1.52 :  0.011220344532019555\n",
      "-1.51 :  0.0002491701799773584\n",
      "-1.5 :  0\n"
     ]
    },
    {
     "data": {
      "image/png": "[encoded data removed]",
      "text/plain": [
       "<Figure size 432x288 with 1 Axes>"
      ]
     },
     "metadata": {
      "needs_background": "light"
     },
     "output_type": "display_data"
    }
   ],
   "source": [
    "energy_spectrum(E_min = -2.5, E_max = -1.5, num_samples = 101, t = 0, sigma = 20, num_cycles = 8, num_shots = 1000, j = 1, nqubits = 3, sampler = sampler)"
   ]
  },
  {
   "cell_type": "code",
   "execution_count": 16,
   "id": "b537891f",
   "metadata": {},
   "outputs": [
    {
     "name": "stdout",
     "output_type": "stream",
     "text": [
      "1.5 :  0.02489376275772488\n",
      "1.51 :  0.0012042688798616986\n",
      "1.52 :  0.00244871508015415\n",
      "1.53 :  0.001498328472156784\n",
      "1.54 :  -8.514341606262842e-05\n",
      "1.55 :  0.017598038803327134\n",
      "1.56 :  0.0003803723950878323\n",
      "1.57 :  0.01616525530199343\n",
      "1.58 :  0.010316611968827922\n",
      "1.59 :  0.002240008306152691\n",
      "1.6 :  0.006415923771021397\n",
      "1.61 :  0.0020204498646651235\n",
      "1.62 :  0.00521925810194733\n",
      "1.63 :  0.013141092014674713\n",
      "1.6400000000000001 :  0.0010987284153875585\n",
      "1.65 :  0.00028172760750962746\n",
      "1.66 :  0.0003819822956767838\n",
      "1.67 :  0.0090668780646156\n",
      "1.68 :  0.0022695912154762636\n",
      "1.69 :  0.0016871653027373992\n",
      "1.7 :  -1.4994630391725795e-05\n",
      "1.71 :  -0.0007024188611542644\n",
      "1.72 :  0.0023567537853912976\n",
      "1.73 :  0\n",
      "1.74 :  0.0037499554315854043\n",
      "1.75 :  0.0005231348330397115\n",
      "1.76 :  0.00025983071737337675\n",
      "1.77 :  0.004184694606481523\n",
      "1.78 :  0\n",
      "1.79 :  0.016276048978387695\n",
      "1.8 :  0.0019001772639971291\n",
      "1.81 :  -0.001110687605294926\n",
      "1.82 :  -0.00011401826881011336\n",
      "1.83 :  0\n",
      "1.84 :  0.008703995614440104\n",
      "1.85 :  -2.2704975281420387e-05\n",
      "1.8599999999999999 :  -3.8887141694632145e-05\n",
      "1.87 :  0.013731301482509266\n",
      "1.88 :  0.0046733742217012495\n",
      "1.8900000000000001 :  0.0827280945828845\n",
      "1.9 :  0.013397221671701348\n",
      "1.9100000000000001 :  0.0005774782553258463\n",
      "1.92 :  -0.00013141570265299055\n",
      "1.93 :  0.016888922810725446\n",
      "1.94 :  0.010611842653560912\n",
      "1.95 :  0.01995717671653492\n",
      "1.96 :  0.024807716778839636\n",
      "1.97 :  0.03353031772986817\n",
      "1.98 :  0.04811844308158313\n",
      "1.99 :  0.08385158362727908\n",
      "2.0 :  0.058293801925800484\n",
      "2.01 :  0.07183999717767536\n",
      "2.02 :  0.04287267847577286\n",
      "2.0300000000000002 :  0.013391911460049498\n",
      "2.04 :  0.03716922564583919\n",
      "2.05 :  0.012118084715208168\n",
      "2.06 :  0.0027916213509191538\n",
      "2.0700000000000003 :  0.011610197923140272\n",
      "2.08 :  0.0015560063727700993\n",
      "2.09 :  0.0003172408669840341\n",
      "2.1 :  0.0038080999568573803\n",
      "2.11 :  0.003098563910475829\n",
      "2.12 :  0.0048422280826906335\n",
      "2.13 :  0.001536532808393014\n",
      "2.14 :  0\n",
      "2.15 :  0\n",
      "2.16 :  0.0014670554302560598\n",
      "2.17 :  0.0020429274559772437\n",
      "2.18 :  0.0009418519992875028\n",
      "2.19 :  0.005718999194195785\n",
      "2.2 :  0.003234232880589668\n",
      "2.21 :  0.0005736272093789203\n",
      "2.2199999999999998 :  0.0013731070542078502\n",
      "2.23 :  0.0015064306226625827\n",
      "2.24 :  0\n",
      "2.25 :  0\n",
      "2.26 :  0.0016305084772419997\n",
      "2.27 :  0.0025961339041058996\n",
      "2.2800000000000002 :  0.00345115128600155\n",
      "2.29 :  0\n",
      "2.3 :  0\n",
      "2.31 :  0.003246484417117841\n",
      "2.3200000000000003 :  -0.0008714692186471612\n",
      "2.33 :  0.0005856659064240212\n",
      "2.34 :  0.004428605164525002\n",
      "2.35 :  0\n",
      "2.36 :  -0.0007026975367798216\n",
      "2.37 :  0\n",
      "2.38 :  0.0021690942734361542\n",
      "2.39 :  0.00729403367592542\n",
      "2.4 :  0\n",
      "2.41 :  0.0006047407483582434\n",
      "2.42 :  0.0012277791406897656\n",
      "2.43 :  0.0003959719119577326\n",
      "2.44 :  0.0006527913249073536\n",
      "2.45 :  0.010910421082798879\n",
      "2.46 :  0.007797906070586544\n",
      "2.4699999999999998 :  0.002121132644306935\n",
      "2.48 :  0.014659338215279042\n",
      "2.49 :  0.0014793940833548113\n",
      "2.5 :  0.01887467000603378\n"
     ]
    },
    {
     "data": {
      "image/png": "[encoded data removed]",
      "text/plain": [
       "<Figure size 432x288 with 1 Axes>"
      ]
     },
     "metadata": {
      "needs_background": "light"
     },
     "output_type": "display_data"
    }
   ],
   "source": [
    "energy_spectrum(E_min = 1.5, E_max = 2.5, num_samples = 101, t = 0, sigma = 20, num_cycles = 8, num_shots = 1000, j = 1, nqubits = 3, sampler = sampler)"
   ]
  },
  {
   "cell_type": "code",
   "execution_count": null,
   "id": "15550784",
   "metadata": {},
   "outputs": [],
   "source": []
  }
 ],
 "metadata": {
  "kernelspec": {
   "display_name": "Python 3 (ipykernel)",
   "language": "python",
   "name": "python3"
  },
  "language_info": {
   "codemirror_mode": {
    "name": "ipython",
    "version": 3
   },
   "file_extension": ".py",
   "mimetype": "text/x-python",
   "name": "python",
   "nbconvert_exporter": "python",
   "pygments_lexer": "ipython3",
   "version": "3.10.4"
  }
 },
 "nbformat": 4,
 "nbformat_minor": 5
}
