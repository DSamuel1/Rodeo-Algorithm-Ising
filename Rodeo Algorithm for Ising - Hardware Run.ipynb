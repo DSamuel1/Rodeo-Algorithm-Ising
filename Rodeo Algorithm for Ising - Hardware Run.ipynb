{
 "cells": [
  {
   "cell_type": "markdown",
   "id": "f5350508",
   "metadata": {},
   "source": [
    "# Rodeo Algorithm for the Ising Model\n",
    "\n",
    "This notebook will implement the [Rodeo Algorithm](https://arxiv.org/abs/2009.04092) for the [Ising model](https://en.wikipedia.org/wiki/Ising_model) and run it on hardware"
   ]
  },
  {
   "cell_type": "code",
   "execution_count": 1,
   "id": "ef82fb45",
   "metadata": {},
   "outputs": [],
   "source": [
    "from qiskit import *\n",
    "from qiskit.tools.visualization import circuit_drawer\n",
    "import matplotlib.pyplot as plt\n",
    "import numpy as np"
   ]
  },
  {
   "cell_type": "markdown",
   "id": "3407cd60",
   "metadata": {},
   "source": [
    "First, we must define a function for a single cycle of the Rodeo Algorithm. This involves implementing the time evolution of the Ising model Hamiltonian Operator.\n",
    "\n",
    "The Hamiltonian for the Ising model is $\\hat{H}=-J \\sum_{<i,j>} \\sigma_{i}^Z \\sigma_{j}^Z - \\sum_{j} h \\sigma_{j}^Z$. In this example, we will assume there is no external field, i.e., $h=0$. So, effectively, $\\hat{H}=-J \\sum_{<i,j>} \\sigma_{i}^Z \\sigma_{j}^Z$\n",
    "\n",
    "We want the hamiltonian evolution to be controlled by the ancilla qubit, so we will use controlled reversal gates as described in [this paper](https://arxiv.org/abs/2208.13557). Since our hamiltonian is made up of Pauli Z's, we will use controlled Pauli Y gates to control the time evolution.\n",
    "\n",
    "The function call below will produce a single cycle of the Rodeo Algorithm for a 3 qubit Hamiltonian with the specified parameters."
   ]
  },
  {
   "cell_type": "code",
   "execution_count": 2,
   "id": "5d2d3ac8",
   "metadata": {},
   "outputs": [
    {
     "data": {
      "image/png": "[encoded data removed]",
      "text/plain": [
       "<Figure size 869.197x264.88 with 1 Axes>"
      ]
     },
     "execution_count": 2,
     "metadata": {},
     "output_type": "execute_result"
    }
   ],
   "source": [
    "def cycle(j:\"float\", deltat:\"float\", E:\"float\", nqubits:\"int\")-> QuantumCircuit:\n",
    "    circ = QuantumCircuit(nqubits+1)\n",
    "    circ.h(nqubits)\n",
    "    # This loop implements the Ising time evolution for each pair of object qubits.\n",
    "    # It also includes CY gates controlled on the ancilla qubit to make the time evolution controlled\n",
    "    for obj_qubit in range(0, nqubits-1):\n",
    "        circ.cy(nqubits, obj_qubit)\n",
    "        circ.cx(obj_qubit,obj_qubit+1)\n",
    "        circ.rz(-1*j*deltat, obj_qubit+1)\n",
    "        circ.cx(obj_qubit,obj_qubit+1)\n",
    "        circ.cy(nqubits, obj_qubit)\n",
    "    circ.p(E*deltat, nqubits)\n",
    "    circ.h(nqubits)\n",
    "    \n",
    "    return circ\n",
    "\n",
    "circuit = cycle(j=1, deltat=1, E=1, nqubits=3)\n",
    "circuit.draw(output = 'mpl')"
   ]
  },
  {
   "cell_type": "markdown",
   "id": "bba2879c",
   "metadata": {},
   "source": [
    "Next, we must put multiple cycles of the Rodeo Algorithm together in one Rodeo Circuit. Note that we initially add Hadamard gates to all the object qubits in order to get the whole energy spectrum in our final run. We also use [mid-circuit measurements](https://quantum-computing.ibm.com/lab/docs/iql/manage/systems/midcircuit-measurement/) to measure the ancilla qubit after each cycle. We must also sample `deltat` for each cycle from a gaussian distribution of mean `t` and standard deviation `sigma`."
   ]
  },
  {
   "cell_type": "code",
   "execution_count": 3,
   "id": "b7130548",
   "metadata": {},
   "outputs": [
    {
     "data": {
      "image/png": "[encoded data removed]",
      "text/plain": [
       "<Figure size 688.597x385.28 with 1 Axes>"
      ]
     },
     "execution_count": 3,
     "metadata": {},
     "output_type": "execute_result"
    }
   ],
   "source": [
    "def rodeo_circuit(j:\"float\", t:\"float\", sigma:\"float\", E:\"float\", nqubits:\"int\", n_cycles:\"int\")-> QuantumCircuit:\n",
    "    circuit = QuantumCircuit(nqubits+1, n_cycles)\n",
    "    for obj_qubit in range(nqubits):\n",
    "        circuit.h(obj_qubit)\n",
    "    for c in range(n_cycles):\n",
    "        deltat = np.random.normal(t, sigma)\n",
    "        cycle_gate = cycle(j, deltat, E, nqubits).to_gate(label=r'Cycle')\n",
    "        circuit.append(cycle_gate, range(0,nqubits+1))\n",
    "        circuit.measure(nqubits, c)\n",
    "    return circuit\n",
    "\n",
    "circ = rodeo_circuit(j=1, t=0, sigma=2, E=2, nqubits=4, n_cycles=3)\n",
    "circ.draw(output = 'mpl')\n",
    "\n",
    "# Uncomment the line below to see the individual gates for each cycle\n",
    "# circ.decompose().draw(output = 'mpl')"
   ]
  },
  {
   "cell_type": "markdown",
   "id": "64c65556",
   "metadata": {},
   "source": [
    "Now, we can create and run a series of Rodeo Circuits for a number of energies to determine the energy spectrum. We will use Qiskit Runtime to run this on an IBM Quantum Computer."
   ]
  },
  {
   "cell_type": "code",
   "execution_count": 4,
   "id": "890ecffa",
   "metadata": {
    "scrolled": true
   },
   "outputs": [],
   "source": [
    "from qiskit_ibm_runtime import QiskitRuntimeService, Options, Session, Sampler\n",
    "\n",
    "service = QiskitRuntimeService(channel = 'ibm_quantum')\n",
    "backend = service.least_busy(simulator=False, operational=True, min_num_qubits=5)\n",
    "session = Session(service = service, backend = backend)\n",
    "options = Options()\n",
    "options.resilience_level = 1 #This ensures that some error mitigation is being used\n",
    "sampler = Sampler(session = session, options = options)\n",
    "\n",
    "\n",
    "\"\"\"Fucntion that plots the energy spectrum for the Ising Model for the given parameters using the Rodeo Algorithm\n",
    "\n",
    "Args:\n",
    "    E_min: Minimum energy value in the energy spectrum\n",
    "    E_max: Maximum enery value in the energy spectrum\n",
    "    num_samples: Number of energies in the energy spectrum\n",
    "    t: Mean of time distribution to be sampled from\n",
    "    sigma: Root-mean-square value of time distribution to be sampled from\n",
    "    num_cycles: Number of cycles for the Rodeo Algorithm\n",
    "    num_shots: Number of shots for each rodeo circuit\n",
    "    j: Pair interaction strength in Ising model\n",
    "    sampler: Qiskit sampler to be used in circuit execution\n",
    "\"\"\"\n",
    "def energy_spectrum(E_min: float, E_max: float, num_samples: int, t: float, sigma: float, num_cycles: int, num_shots: int, j: float, nqubits: int, sampler: Sampler):\n",
    "    fig = plt.figure()\n",
    "    ax = fig.add_axes([0,0,1,1])\n",
    "    # E_list is a list of the energies we will be finding the probability for\n",
    "    E_list = np.linspace(E_min, E_max, num_samples)\n",
    "    p = []\n",
    "    circuits = []\n",
    "    for E in E_list:\n",
    "        circuits.append(rodeo_circuit(j=j, t=t, sigma=sigma, E=E, nqubits=nqubits, n_cycles=num_cycles))\n",
    "        \n",
    "    job = sampler.run(circuits, shots = num_shots)\n",
    "    result = job.result()\n",
    "\n",
    "    idx = 0\n",
    "    counts = result.decompose()\n",
    "    for count in counts:\n",
    "        dist = count.quasi_dists\n",
    "        if isinstance(dist[0].get(0), float):\n",
    "            prob = dist[0].get(0)\n",
    "        else:\n",
    "            prob = 0\n",
    "        print(round(E_list[idx],2),\": \",round(prob,2))\n",
    "        p.append(prob)\n",
    "        idx+=1\n",
    "        \n",
    "    ax.bar(E_list, p, width=(E_max-E_min)/num_samples, align='edge', color = 'blue', edgecolor='black', alpha=0.4)\n",
    "    plt.show()"
   ]
  },
  {
   "cell_type": "markdown",
   "id": "6faf3f43",
   "metadata": {},
   "source": [
    "Now, we can use the above function to find the energy spectrum. As an example, we will find the desired energies of the $3$ qubit Ising Model with $j = 1$. Ideally, we should find peaks at $E = -2, 0, 2$. This is because 3 qubits means we have 2 pair interactions, and each pair will have strength $j=1$. Since the $ZZ$ hamiltonian has eigenvalues 1 and -1, this means each pair interaction will result in contribute either $1$ or $-1$ to the overall energy of the system. So, either both interactions are $1$, which results in an energy of $2$, both are opposite, resulting in an energy of $0$, or both are $-1$ resulting in an energy of $-2$.\n",
    "\n",
    "To test this, we first call the `energy_spectrum` function for $61$ samples between $-3$ and $3$. We will then \"zoom in\" and call the function for $101$ samples in the ranges $(-0.5, 0.5)$, $(-2.5, -1.5)$, and $(1.5, 2.5)$."
   ]
  },
  {
   "cell_type": "code",
   "execution_count": 5,
   "id": "3e8c1101",
   "metadata": {},
   "outputs": [
    {
     "name": "stdout",
     "output_type": "stream",
     "text": [
      "-3.0 :  0\n",
      "-2.9 :  0\n",
      "-2.8 :  0.0\n",
      "-2.7 :  -0.0\n",
      "-2.6 :  0.0\n",
      "-2.5 :  0\n",
      "-2.4 :  0\n",
      "-2.3 :  0.0\n",
      "-2.2 :  0\n",
      "-2.1 :  0\n",
      "-2.0 :  0.0\n",
      "-1.9 :  0\n",
      "-1.8 :  -0.0\n",
      "-1.7 :  0\n",
      "-1.6 :  0.02\n",
      "-1.5 :  0.01\n",
      "-1.4 :  0.07\n",
      "-1.3 :  0.15\n",
      "-1.2 :  0.17\n",
      "-1.1 :  0.22\n",
      "-1.0 :  0.21\n",
      "-0.9 :  0.21\n",
      "-0.8 :  0.14\n",
      "-0.7 :  0.04\n",
      "-0.6 :  0.09\n",
      "-0.5 :  0.02\n",
      "-0.4 :  0.0\n",
      "-0.3 :  0.0\n",
      "-0.2 :  0\n",
      "-0.1 :  0\n",
      "0.0 :  0\n",
      "0.1 :  0.0\n",
      "0.2 :  0.02\n",
      "0.3 :  0\n",
      "0.4 :  0.01\n",
      "0.5 :  0.1\n",
      "0.6 :  0.01\n",
      "0.7 :  0.08\n",
      "0.8 :  0.21\n",
      "0.9 :  0.19\n",
      "1.0 :  0.23\n",
      "1.1 :  0.21\n",
      "1.2 :  0.15\n",
      "1.3 :  0.07\n",
      "1.4 :  0.1\n",
      "1.5 :  0.0\n",
      "1.6 :  0.01\n",
      "1.7 :  0\n",
      "1.8 :  -0.0\n",
      "1.9 :  0.01\n",
      "2.0 :  0.0\n",
      "2.1 :  0\n",
      "2.2 :  0\n",
      "2.3 :  0\n",
      "2.4 :  0\n",
      "2.5 :  0.01\n",
      "2.6 :  -0.0\n",
      "2.7 :  0\n",
      "2.8 :  0.0\n",
      "2.9 :  0.0\n",
      "3.0 :  0\n"
     ]
    },
    {
     "data": {
      "image/png": "[encoded data removed]",
      "text/plain": [
       "<Figure size 432x288 with 1 Axes>"
      ]
     },
     "metadata": {
      "needs_background": "light"
     },
     "output_type": "display_data"
    }
   ],
   "source": [
    "energy_spectrum(E_min = -3, E_max = 3, num_samples = 61, t = 0, sigma = 2, num_cycles = 10, num_shots = 1000, j = 1, nqubits = 2, sampler = sampler)"
   ]
  },
  {
   "cell_type": "code",
   "execution_count": 9,
   "id": "630fb957",
   "metadata": {
    "scrolled": true
   },
   "outputs": [
    {
     "name": "stdout",
     "output_type": "stream",
     "text": [
      "-1.5 :  0\n",
      "-1.49 :  0.0\n",
      "-1.48 :  0.0\n",
      "-1.47 :  0\n",
      "-1.46 :  0.0\n",
      "-1.45 :  0.0\n",
      "-1.44 :  0.0\n",
      "-1.43 :  0\n",
      "-1.42 :  0.0\n",
      "-1.41 :  0\n",
      "-1.4 :  0.0\n",
      "-1.39 :  0\n",
      "-1.38 :  0\n",
      "-1.37 :  0.0\n",
      "-1.36 :  0\n",
      "-1.35 :  -0.0\n",
      "-1.34 :  0\n",
      "-1.33 :  0.0\n",
      "-1.32 :  0.0\n",
      "-1.31 :  0\n",
      "-1.3 :  0\n",
      "-1.29 :  0.0\n",
      "-1.28 :  0\n",
      "-1.27 :  0.0\n",
      "-1.26 :  0.0\n",
      "-1.25 :  0.0\n",
      "-1.24 :  0.01\n",
      "-1.23 :  -0.0\n",
      "-1.22 :  0.0\n",
      "-1.21 :  0.0\n",
      "-1.2 :  0.01\n",
      "-1.19 :  0.0\n",
      "-1.18 :  0\n",
      "-1.17 :  0.0\n",
      "-1.16 :  0\n",
      "-1.15 :  0.0\n",
      "-1.14 :  -0.0\n",
      "-1.13 :  -0.0\n",
      "-1.12 :  0\n",
      "-1.11 :  0\n",
      "-1.1 :  0.01\n",
      "-1.09 :  0.0\n",
      "-1.08 :  -0.0\n",
      "-1.07 :  -0.0\n",
      "-1.06 :  0.0\n",
      "-1.05 :  0.01\n",
      "-1.04 :  0.12\n",
      "-1.03 :  0.1\n",
      "-1.02 :  0.09\n",
      "-1.01 :  0.24\n",
      "-1.0 :  0.23\n",
      "-0.99 :  0.18\n",
      "-0.98 :  0.15\n",
      "-0.97 :  0.06\n",
      "-0.96 :  0.02\n",
      "-0.95 :  0.01\n",
      "-0.94 :  0.01\n",
      "-0.93 :  0.01\n",
      "-0.92 :  0\n",
      "-0.91 :  0.03\n",
      "-0.9 :  0.0\n",
      "-0.89 :  0\n",
      "-0.88 :  0.0\n",
      "-0.87 :  0\n",
      "-0.86 :  0\n",
      "-0.85 :  0.0\n",
      "-0.84 :  0.0\n",
      "-0.83 :  0\n",
      "-0.82 :  0\n",
      "-0.81 :  0\n",
      "-0.8 :  0\n",
      "-0.79 :  0\n",
      "-0.78 :  0.0\n",
      "-0.77 :  0.0\n",
      "-0.76 :  0\n",
      "-0.75 :  0\n",
      "-0.74 :  0\n",
      "-0.73 :  0\n",
      "-0.72 :  0\n",
      "-0.71 :  0\n",
      "-0.7 :  0.0\n",
      "-0.69 :  0.0\n",
      "-0.68 :  0\n",
      "-0.67 :  0.0\n",
      "-0.66 :  0\n",
      "-0.65 :  0.0\n",
      "-0.64 :  0\n",
      "-0.63 :  0.0\n",
      "-0.62 :  0\n",
      "-0.61 :  0.01\n",
      "-0.6 :  0.0\n",
      "-0.59 :  0\n",
      "-0.58 :  0\n",
      "-0.57 :  0\n",
      "-0.56 :  0\n",
      "-0.55 :  0\n",
      "-0.54 :  0.0\n",
      "-0.53 :  0\n",
      "-0.52 :  0\n",
      "-0.51 :  0\n",
      "-0.5 :  0\n"
     ]
    },
    {
     "data": {
      "image/png": "[encoded data removed]",
      "text/plain": [
       "<Figure size 432x288 with 1 Axes>"
      ]
     },
     "metadata": {
      "needs_background": "light"
     },
     "output_type": "display_data"
    }
   ],
   "source": [
    "energy_spectrum(E_min = -1.5, E_max = -0.5, num_samples = 101, t = 0, sigma = 20, num_cycles = 10, num_shots = 1000, j = 1, nqubits = 2, sampler = sampler)"
   ]
  },
  {
   "cell_type": "code",
   "execution_count": 10,
   "id": "39ef74dd",
   "metadata": {},
   "outputs": [
    {
     "name": "stdout",
     "output_type": "stream",
     "text": [
      "0.5 :  0.0\n",
      "0.51 :  0\n",
      "0.52 :  0.01\n",
      "0.53 :  0\n",
      "0.54 :  0\n",
      "0.55 :  -0.0\n",
      "0.56 :  0.0\n",
      "0.57 :  0\n",
      "0.58 :  0\n",
      "0.59 :  0.0\n",
      "0.6 :  0.0\n",
      "0.61 :  0.01\n",
      "0.62 :  0.0\n",
      "0.63 :  0\n",
      "0.64 :  0.0\n",
      "0.65 :  0\n",
      "0.66 :  0\n",
      "0.67 :  0.01\n",
      "0.68 :  0.01\n",
      "0.69 :  0.0\n",
      "0.7 :  0.0\n",
      "0.71 :  0.0\n",
      "0.72 :  0.0\n",
      "0.73 :  0.0\n",
      "0.74 :  0\n",
      "0.75 :  0.0\n",
      "0.76 :  0.0\n",
      "0.77 :  0.0\n",
      "0.78 :  -0.0\n",
      "0.79 :  0\n",
      "0.8 :  0.01\n",
      "0.81 :  0\n",
      "0.82 :  0\n",
      "0.83 :  0\n",
      "0.84 :  0.0\n",
      "0.85 :  0\n",
      "0.86 :  0\n",
      "0.87 :  0\n",
      "0.88 :  0.0\n",
      "0.89 :  0\n",
      "0.9 :  0\n",
      "0.91 :  0.0\n",
      "0.92 :  0.0\n",
      "0.93 :  0\n",
      "0.94 :  0.02\n",
      "0.95 :  0.02\n",
      "0.96 :  0.01\n",
      "0.97 :  0.11\n",
      "0.98 :  0.15\n",
      "0.99 :  0.24\n",
      "1.0 :  0.23\n",
      "1.01 :  0.24\n",
      "1.02 :  0.18\n",
      "1.03 :  0.14\n",
      "1.04 :  0.06\n",
      "1.05 :  0.03\n",
      "1.06 :  0.02\n",
      "1.07 :  0.0\n",
      "1.08 :  0.0\n",
      "1.09 :  0.0\n",
      "1.1 :  0\n",
      "1.11 :  0.0\n",
      "1.12 :  0\n",
      "1.13 :  0.0\n",
      "1.14 :  0.0\n",
      "1.15 :  0\n",
      "1.16 :  0\n",
      "1.17 :  0\n",
      "1.18 :  0\n",
      "1.19 :  0\n",
      "1.2 :  0\n",
      "1.21 :  0\n",
      "1.22 :  -0.0\n",
      "1.23 :  0.0\n",
      "1.24 :  0\n",
      "1.25 :  0.0\n",
      "1.26 :  0.0\n",
      "1.27 :  0\n",
      "1.28 :  0\n",
      "1.29 :  0\n",
      "1.3 :  0\n",
      "1.31 :  0.0\n",
      "1.32 :  0.0\n",
      "1.33 :  0\n",
      "1.34 :  0\n",
      "1.35 :  0.05\n",
      "1.36 :  0.0\n",
      "1.37 :  0\n",
      "1.38 :  0\n",
      "1.39 :  0\n",
      "1.4 :  0.0\n",
      "1.41 :  0\n",
      "1.42 :  0.0\n",
      "1.43 :  0\n",
      "1.44 :  0.0\n",
      "1.45 :  0\n",
      "1.46 :  0.0\n",
      "1.47 :  0.0\n",
      "1.48 :  0.0\n",
      "1.49 :  0.0\n",
      "1.5 :  0.02\n"
     ]
    },
    {
     "data": {
      "image/png": "[encoded data removed]",
      "text/plain": [
       "<Figure size 432x288 with 1 Axes>"
      ]
     },
     "metadata": {
      "needs_background": "light"
     },
     "output_type": "display_data"
    }
   ],
   "source": [
    "energy_spectrum(E_min = 0.5, E_max = 1.5, num_samples = 101, t = 0, sigma = 20, num_cycles = 10, num_shots = 1000, j = 1, nqubits = 2, sampler = sampler)"
   ]
  },
  {
   "cell_type": "code",
   "execution_count": 8,
   "id": "eb8928d0",
   "metadata": {},
   "outputs": [],
   "source": [
    "# energy_spectrum(E_min = 1.5, E_max = 2.5, num_samples = 101, t = 0, sigma = 20, num_cycles = 10, num_shots = 1000, j = 1, nqubits = 3, sampler = sampler)"
   ]
  },
  {
   "cell_type": "code",
   "execution_count": null,
   "id": "ad11bf01",
   "metadata": {},
   "outputs": [],
   "source": []
  }
 ],
 "metadata": {
  "kernelspec": {
   "display_name": "Python 3 (ipykernel)",
   "language": "python",
   "name": "python3"
  },
  "language_info": {
   "codemirror_mode": {
    "name": "ipython",
    "version": 3
   },
   "file_extension": ".py",
   "mimetype": "text/x-python",
   "name": "python",
   "nbconvert_exporter": "python",
   "pygments_lexer": "ipython3",
   "version": "3.10.4"
  }
 },
 "nbformat": 4,
 "nbformat_minor": 5
}
